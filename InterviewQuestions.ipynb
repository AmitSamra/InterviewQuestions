{
 "cells": [
  {
   "cell_type": "code",
   "execution_count": 40,
   "metadata": {},
   "outputs": [
    {
     "name": "stdout",
     "output_type": "stream",
     "text": [
      "True\n",
      "False\n"
     ]
    }
   ],
   "source": [
    "\"\"\"\n",
    "Bernie Gray\n",
    "Write a function that takes in two parameters, a dictionary and a list.\n",
    "The function should return True if all of the keys in the dictionary\n",
    "are present at least once in the list and otherwise return False.\n",
    "\"\"\"\n",
    "\n",
    "d1 = {1:2, 3:4}\n",
    "l1 = [1,3] # True becuase 1 and 3 are in l1\n",
    "l2 = [1,2] # False because 3 is not in l2\n",
    "\n",
    "def func(dict1, list1):\n",
    "    for key in dict1.keys():\n",
    "        if key not in list1:\n",
    "            return False\n",
    "    else:\n",
    "        return True\n",
    "\n",
    "print(func(d1,l1))\n",
    "print(func(d1,l2))"
   ]
  },
  {
   "cell_type": "code",
   "execution_count": 41,
   "metadata": {},
   "outputs": [
    {
     "name": "stdout",
     "output_type": "stream",
     "text": [
      "['How are you']\n"
     ]
    }
   ],
   "source": [
    "\"\"\"\n",
    "Nina Xu\n",
    "Create a function that takes two parameters, paragraph and word, which\n",
    "returns the sentence containing the word.\n",
    "\"\"\"\n",
    "\n",
    "p1 = 'Hello. How are you.'\n",
    "w1 = 'you'\n",
    "\n",
    "def word_list(paragraph, word):\n",
    "    a = []\n",
    "    for i in paragraph.split('.'):\n",
    "        for j in i.split(' '):\n",
    "            if j.lower() == word.lower():\n",
    "                a.append(i)\n",
    "    \n",
    "    a = [x.strip() for x in a]\n",
    "    \n",
    "    return a\n",
    "\n",
    "print(word_list(p1,w1))"
   ]
  },
  {
   "cell_type": "code",
   "execution_count": 98,
   "metadata": {},
   "outputs": [
    {
     "name": "stdout",
     "output_type": "stream",
     "text": [
      "{}\n",
      "{1: ['1', '8'], 2: ['10', '16'], 3: ['100', '101', '200'], 4: ['1000']}\n"
     ]
    },
    {
     "data": {
      "text/plain": [
       "['1', '8', '10', '16', '100', '101', '200', '1000']"
      ]
     },
     "execution_count": 98,
     "metadata": {},
     "output_type": "execute_result"
    }
   ],
   "source": [
    "\"\"\"\n",
    "Jack Harris\n",
    "\n",
    "Given: an array of numbers but stored as strings.\n",
    "Task: Sort them in ascending order\n",
    "\n",
    "Example: instead of {9, 8, 3} you have {“9”, “8”, “3”},\n",
    "and your output should be {“3”, “8”, “9”}\n",
    "\n",
    "Rules:\n",
    "1. You are not allowed to make them anything other than strings.\n",
    "You can’t turn them into numbers and then back to strings.\n",
    "2. Your code should work for any set of numbers, not just the ones above\n",
    "\"\"\"\n",
    "\n",
    "a = ['8','10','16','1','100','101','200','1000']\n",
    "\n",
    "def string_num(x):\n",
    "    \n",
    "    d_pos = {}\n",
    "    d_neg = {}\n",
    "    \n",
    "    # create empty lists in d_pos & d_neg\n",
    "    for i in x:\n",
    "        if i[0] != '-':\n",
    "            d_pos[len(i)] = []\n",
    "        else:\n",
    "            d_neg[len(i)-1] = []\n",
    "\n",
    "    # add positive items to d_pos\n",
    "    for i in x:\n",
    "        if i[0] != '-':\n",
    "            d_pos[len(i)].append(i)\n",
    "    for i,j in d_pos.items():\n",
    "        j.sort()\n",
    "    \n",
    "    # add negative items to d_neg\n",
    "    for i in x:\n",
    "        if i[0] == '-':\n",
    "            d_neg[len(i)-1].append(i)\n",
    "    for i,j in d_neg.items():\n",
    "        j.sort(reverse = True)\n",
    "    \n",
    "    pos_list = []\n",
    "    neg_list = []\n",
    "    \n",
    "    for i,j in d_neg.items():\n",
    "        for item in j[::-1]:\n",
    "            neg_list.append(item)\n",
    "    print(d_neg)\n",
    "    \n",
    "    for i,j in d_pos.items():\n",
    "        for item in j:\n",
    "            pos_list.append(item)\n",
    "    \n",
    "    final_list = []\n",
    "    \n",
    "    for i in neg_list[::-1]:\n",
    "        final_list.append(i)\n",
    "    \n",
    "    for i in pos_list:\n",
    "        final_list.append(i)\n",
    "\n",
    "    print(d_pos)\n",
    "    \n",
    "    return final_list\n",
    "\n",
    "string_num(a)"
   ]
  },
  {
   "cell_type": "code",
   "execution_count": 97,
   "metadata": {},
   "outputs": [
    {
     "name": "stdout",
     "output_type": "stream",
     "text": [
      "{2: ['-80', '-50', '-10'], 3: ['-100']}\n",
      "{1: ['1', '8'], 2: ['10', '16'], 3: ['100', '101', '200'], 4: ['1000']}\n"
     ]
    },
    {
     "data": {
      "text/plain": [
       "['-10',\n",
       " '-50',\n",
       " '-80',\n",
       " '-100',\n",
       " '1',\n",
       " '8',\n",
       " '10',\n",
       " '16',\n",
       " '100',\n",
       " '101',\n",
       " '200',\n",
       " '1000']"
      ]
     },
     "execution_count": 97,
     "metadata": {},
     "output_type": "execute_result"
    }
   ],
   "source": [
    "b = ['-50', '-10','-100','-80','8','10','16','1','100','101','200','1000']\n",
    "string_num(b)"
   ]
  },
  {
   "cell_type": "code",
   "execution_count": null,
   "metadata": {},
   "outputs": [],
   "source": []
  },
  {
   "cell_type": "code",
   "execution_count": null,
   "metadata": {},
   "outputs": [],
   "source": []
  }
 ],
 "metadata": {
  "kernelspec": {
   "display_name": "Python 3",
   "language": "python",
   "name": "python3"
  },
  "language_info": {
   "codemirror_mode": {
    "name": "ipython",
    "version": 3
   },
   "file_extension": ".py",
   "mimetype": "text/x-python",
   "name": "python",
   "nbconvert_exporter": "python",
   "pygments_lexer": "ipython3",
   "version": "3.8.5"
  }
 },
 "nbformat": 4,
 "nbformat_minor": 4
}
