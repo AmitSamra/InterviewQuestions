{
 "cells": [
  {
   "cell_type": "code",
   "execution_count": 38,
   "metadata": {},
   "outputs": [
    {
     "name": "stdout",
     "output_type": "stream",
     "text": [
      "True\n",
      "False\n"
     ]
    }
   ],
   "source": [
    "\"\"\"\n",
    "Write a function that takes in two parameters, a dictionary and a list.\n",
    "The function should return True if all of the keys in the dictionary\n",
    "are present at least once in the list and otherwise return False.\n",
    "\"\"\"\n",
    "\n",
    "d1 = {1:2, 3:4}\n",
    "l1 = [1,3] # True becuase 1 and 3 are in l1\n",
    "l2 = [1,2] # False because 3 is not in l2\n",
    "\n",
    "def func(dict1, list1):\n",
    "    for key in dict1.keys():\n",
    "        if key not in list1:\n",
    "            return False\n",
    "    else:\n",
    "        return True\n",
    "\n",
    "print(func(d1,l1))\n",
    "print(func(d1,l2))"
   ]
  },
  {
   "cell_type": "code",
   "execution_count": 39,
   "metadata": {},
   "outputs": [
    {
     "name": "stdout",
     "output_type": "stream",
     "text": [
      "['How are you']\n"
     ]
    }
   ],
   "source": [
    "\"\"\"\n",
    "Create a function that takes two parameters, paragraph and word, which\n",
    "returns the sentence containing the word.\n",
    "\"\"\"\n",
    "\n",
    "p1 = 'Hello. How are you.'\n",
    "w1 = 'you'\n",
    "\n",
    "def word_list(paragraph, word):\n",
    "    a = []\n",
    "    for i in paragraph.split('.'):\n",
    "        for j in i.split(' '):\n",
    "            if j.lower() == word.lower():\n",
    "                a.append(i)\n",
    "    \n",
    "    a = [x.strip() for x in a]\n",
    "    \n",
    "    return a\n",
    "\n",
    "print(word_list(p1,w1))"
   ]
  },
  {
   "cell_type": "code",
   "execution_count": null,
   "metadata": {},
   "outputs": [],
   "source": []
  },
  {
   "cell_type": "code",
   "execution_count": null,
   "metadata": {},
   "outputs": [],
   "source": []
  }
 ],
 "metadata": {
  "kernelspec": {
   "display_name": "Python 3",
   "language": "python",
   "name": "python3"
  },
  "language_info": {
   "codemirror_mode": {
    "name": "ipython",
    "version": 3
   },
   "file_extension": ".py",
   "mimetype": "text/x-python",
   "name": "python",
   "nbconvert_exporter": "python",
   "pygments_lexer": "ipython3",
   "version": "3.8.5"
  }
 },
 "nbformat": 4,
 "nbformat_minor": 4
}
